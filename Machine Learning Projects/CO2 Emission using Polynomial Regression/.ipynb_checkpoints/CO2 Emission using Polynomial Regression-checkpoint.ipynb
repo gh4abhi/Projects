{
 "cells": [
  {
   "cell_type": "code",
   "execution_count": 27,
   "metadata": {},
   "outputs": [],
   "source": [
    "import numpy as np\n",
    "import pandas as pd \n",
    "import matplotlib.pyplot as plt\n",
    "%matplotlib inline"
   ]
  },
  {
   "cell_type": "code",
   "execution_count": 28,
   "metadata": {},
   "outputs": [],
   "source": [
    "df = pd.read_excel(\"Fuel_Consumption.xlsx\")"
   ]
  },
  {
   "cell_type": "code",
   "execution_count": 29,
   "metadata": {},
   "outputs": [
    {
     "data": {
      "text/html": [
       "<div>\n",
       "<style scoped>\n",
       "    .dataframe tbody tr th:only-of-type {\n",
       "        vertical-align: middle;\n",
       "    }\n",
       "\n",
       "    .dataframe tbody tr th {\n",
       "        vertical-align: top;\n",
       "    }\n",
       "\n",
       "    .dataframe thead th {\n",
       "        text-align: right;\n",
       "    }\n",
       "</style>\n",
       "<table border=\"1\" class=\"dataframe\">\n",
       "  <thead>\n",
       "    <tr style=\"text-align: right;\">\n",
       "      <th></th>\n",
       "      <th>Model_Year</th>\n",
       "      <th>Make</th>\n",
       "      <th>Model</th>\n",
       "      <th>Vehicle_Class</th>\n",
       "      <th>Engine_Size_L</th>\n",
       "      <th>Cylinders</th>\n",
       "      <th>Transmission</th>\n",
       "      <th>Fuel_Type</th>\n",
       "      <th>Fuel_Consumption_City_L_per_100_km</th>\n",
       "      <th>Fuel_Consumption_Hwy_L_per_100_km</th>\n",
       "      <th>Fuel_Consumption_Comb_L_per_100_km</th>\n",
       "      <th>Fuel_Consumption_Comb_mpg</th>\n",
       "      <th>CO2_Emissions_g_per_km</th>\n",
       "      <th>CO2_Rating</th>\n",
       "      <th>Smog_Rating</th>\n",
       "    </tr>\n",
       "  </thead>\n",
       "  <tbody>\n",
       "    <tr>\n",
       "      <th>0</th>\n",
       "      <td>2020</td>\n",
       "      <td>Acura</td>\n",
       "      <td>ILX</td>\n",
       "      <td>Compact</td>\n",
       "      <td>2.4</td>\n",
       "      <td>4</td>\n",
       "      <td>AM8</td>\n",
       "      <td>Z</td>\n",
       "      <td>9.9</td>\n",
       "      <td>7.0</td>\n",
       "      <td>8.6</td>\n",
       "      <td>33</td>\n",
       "      <td>199</td>\n",
       "      <td>6</td>\n",
       "      <td>3</td>\n",
       "    </tr>\n",
       "    <tr>\n",
       "      <th>1</th>\n",
       "      <td>2020</td>\n",
       "      <td>Acura</td>\n",
       "      <td>MDX SH-AWD</td>\n",
       "      <td>SUV: Small</td>\n",
       "      <td>3.5</td>\n",
       "      <td>6</td>\n",
       "      <td>AS9</td>\n",
       "      <td>Z</td>\n",
       "      <td>12.3</td>\n",
       "      <td>9.2</td>\n",
       "      <td>10.9</td>\n",
       "      <td>26</td>\n",
       "      <td>254</td>\n",
       "      <td>4</td>\n",
       "      <td>3</td>\n",
       "    </tr>\n",
       "    <tr>\n",
       "      <th>2</th>\n",
       "      <td>2020</td>\n",
       "      <td>Acura</td>\n",
       "      <td>MDX SH-AWD A-SPEC</td>\n",
       "      <td>SUV: Small</td>\n",
       "      <td>3.5</td>\n",
       "      <td>6</td>\n",
       "      <td>AS9</td>\n",
       "      <td>Z</td>\n",
       "      <td>12.2</td>\n",
       "      <td>9.5</td>\n",
       "      <td>11.0</td>\n",
       "      <td>26</td>\n",
       "      <td>258</td>\n",
       "      <td>4</td>\n",
       "      <td>3</td>\n",
       "    </tr>\n",
       "    <tr>\n",
       "      <th>3</th>\n",
       "      <td>2020</td>\n",
       "      <td>Acura</td>\n",
       "      <td>MDX Hybrid AWD</td>\n",
       "      <td>SUV: Small</td>\n",
       "      <td>3.0</td>\n",
       "      <td>6</td>\n",
       "      <td>AM7</td>\n",
       "      <td>Z</td>\n",
       "      <td>9.1</td>\n",
       "      <td>9.0</td>\n",
       "      <td>9.0</td>\n",
       "      <td>31</td>\n",
       "      <td>210</td>\n",
       "      <td>5</td>\n",
       "      <td>3</td>\n",
       "    </tr>\n",
       "    <tr>\n",
       "      <th>4</th>\n",
       "      <td>2020</td>\n",
       "      <td>Acura</td>\n",
       "      <td>RDX AWD</td>\n",
       "      <td>SUV: Small</td>\n",
       "      <td>2.0</td>\n",
       "      <td>4</td>\n",
       "      <td>AS10</td>\n",
       "      <td>Z</td>\n",
       "      <td>11.0</td>\n",
       "      <td>8.6</td>\n",
       "      <td>9.9</td>\n",
       "      <td>29</td>\n",
       "      <td>232</td>\n",
       "      <td>5</td>\n",
       "      <td>6</td>\n",
       "    </tr>\n",
       "  </tbody>\n",
       "</table>\n",
       "</div>"
      ],
      "text/plain": [
       "   Model_Year   Make              Model Vehicle_Class  Engine_Size_L  \\\n",
       "0        2020  Acura                ILX       Compact            2.4   \n",
       "1        2020  Acura         MDX SH-AWD    SUV: Small            3.5   \n",
       "2        2020  Acura  MDX SH-AWD A-SPEC    SUV: Small            3.5   \n",
       "3        2020  Acura     MDX Hybrid AWD    SUV: Small            3.0   \n",
       "4        2020  Acura            RDX AWD    SUV: Small            2.0   \n",
       "\n",
       "   Cylinders Transmission Fuel_Type  Fuel_Consumption_City_L_per_100_km  \\\n",
       "0          4          AM8         Z                                 9.9   \n",
       "1          6          AS9         Z                                12.3   \n",
       "2          6          AS9         Z                                12.2   \n",
       "3          6          AM7         Z                                 9.1   \n",
       "4          4         AS10         Z                                11.0   \n",
       "\n",
       "   Fuel_Consumption_Hwy_L_per_100_km  Fuel_Consumption_Comb_L_per_100_km  \\\n",
       "0                                7.0                                 8.6   \n",
       "1                                9.2                                10.9   \n",
       "2                                9.5                                11.0   \n",
       "3                                9.0                                 9.0   \n",
       "4                                8.6                                 9.9   \n",
       "\n",
       "   Fuel_Consumption_Comb_mpg  CO2_Emissions_g_per_km  CO2_Rating  Smog_Rating  \n",
       "0                         33                     199           6            3  \n",
       "1                         26                     254           4            3  \n",
       "2                         26                     258           4            3  \n",
       "3                         31                     210           5            3  \n",
       "4                         29                     232           5            6  "
      ]
     },
     "execution_count": 29,
     "metadata": {},
     "output_type": "execute_result"
    }
   ],
   "source": [
    "df.head()"
   ]
  },
  {
   "cell_type": "code",
   "execution_count": 30,
   "metadata": {},
   "outputs": [
    {
     "data": {
      "text/html": [
       "<div>\n",
       "<style scoped>\n",
       "    .dataframe tbody tr th:only-of-type {\n",
       "        vertical-align: middle;\n",
       "    }\n",
       "\n",
       "    .dataframe tbody tr th {\n",
       "        vertical-align: top;\n",
       "    }\n",
       "\n",
       "    .dataframe thead th {\n",
       "        text-align: right;\n",
       "    }\n",
       "</style>\n",
       "<table border=\"1\" class=\"dataframe\">\n",
       "  <thead>\n",
       "    <tr style=\"text-align: right;\">\n",
       "      <th></th>\n",
       "      <th>Model_Year</th>\n",
       "      <th>Engine_Size_L</th>\n",
       "      <th>Cylinders</th>\n",
       "      <th>Fuel_Consumption_City_L_per_100_km</th>\n",
       "      <th>Fuel_Consumption_Hwy_L_per_100_km</th>\n",
       "      <th>Fuel_Consumption_Comb_L_per_100_km</th>\n",
       "      <th>Fuel_Consumption_Comb_mpg</th>\n",
       "      <th>CO2_Emissions_g_per_km</th>\n",
       "      <th>CO2_Rating</th>\n",
       "      <th>Smog_Rating</th>\n",
       "    </tr>\n",
       "  </thead>\n",
       "  <tbody>\n",
       "    <tr>\n",
       "      <th>count</th>\n",
       "      <td>878.0</td>\n",
       "      <td>878.000000</td>\n",
       "      <td>878.000000</td>\n",
       "      <td>878.000000</td>\n",
       "      <td>878.000000</td>\n",
       "      <td>878.000000</td>\n",
       "      <td>878.000000</td>\n",
       "      <td>878.000000</td>\n",
       "      <td>878.000000</td>\n",
       "      <td>878.000000</td>\n",
       "    </tr>\n",
       "    <tr>\n",
       "      <th>mean</th>\n",
       "      <td>2020.0</td>\n",
       "      <td>3.163895</td>\n",
       "      <td>5.658314</td>\n",
       "      <td>12.353531</td>\n",
       "      <td>9.073235</td>\n",
       "      <td>10.876310</td>\n",
       "      <td>27.715262</td>\n",
       "      <td>252.362187</td>\n",
       "      <td>4.542141</td>\n",
       "      <td>4.509112</td>\n",
       "    </tr>\n",
       "    <tr>\n",
       "      <th>std</th>\n",
       "      <td>0.0</td>\n",
       "      <td>1.361419</td>\n",
       "      <td>1.906448</td>\n",
       "      <td>3.385707</td>\n",
       "      <td>2.108181</td>\n",
       "      <td>2.771538</td>\n",
       "      <td>7.562496</td>\n",
       "      <td>59.483244</td>\n",
       "      <td>1.709835</td>\n",
       "      <td>1.749874</td>\n",
       "    </tr>\n",
       "    <tr>\n",
       "      <th>min</th>\n",
       "      <td>2020.0</td>\n",
       "      <td>1.000000</td>\n",
       "      <td>3.000000</td>\n",
       "      <td>4.200000</td>\n",
       "      <td>4.000000</td>\n",
       "      <td>4.100000</td>\n",
       "      <td>13.000000</td>\n",
       "      <td>96.000000</td>\n",
       "      <td>1.000000</td>\n",
       "      <td>1.000000</td>\n",
       "    </tr>\n",
       "    <tr>\n",
       "      <th>25%</th>\n",
       "      <td>2020.0</td>\n",
       "      <td>2.000000</td>\n",
       "      <td>4.000000</td>\n",
       "      <td>10.000000</td>\n",
       "      <td>7.600000</td>\n",
       "      <td>9.000000</td>\n",
       "      <td>23.000000</td>\n",
       "      <td>210.000000</td>\n",
       "      <td>3.000000</td>\n",
       "      <td>3.000000</td>\n",
       "    </tr>\n",
       "    <tr>\n",
       "      <th>50%</th>\n",
       "      <td>2020.0</td>\n",
       "      <td>3.000000</td>\n",
       "      <td>6.000000</td>\n",
       "      <td>12.000000</td>\n",
       "      <td>8.800000</td>\n",
       "      <td>10.600000</td>\n",
       "      <td>27.000000</td>\n",
       "      <td>250.000000</td>\n",
       "      <td>4.000000</td>\n",
       "      <td>5.000000</td>\n",
       "    </tr>\n",
       "    <tr>\n",
       "      <th>75%</th>\n",
       "      <td>2020.0</td>\n",
       "      <td>3.800000</td>\n",
       "      <td>6.000000</td>\n",
       "      <td>14.400000</td>\n",
       "      <td>10.300000</td>\n",
       "      <td>12.500000</td>\n",
       "      <td>31.000000</td>\n",
       "      <td>290.000000</td>\n",
       "      <td>5.000000</td>\n",
       "      <td>6.000000</td>\n",
       "    </tr>\n",
       "    <tr>\n",
       "      <th>max</th>\n",
       "      <td>2020.0</td>\n",
       "      <td>8.000000</td>\n",
       "      <td>16.000000</td>\n",
       "      <td>26.800000</td>\n",
       "      <td>18.100000</td>\n",
       "      <td>22.200000</td>\n",
       "      <td>69.000000</td>\n",
       "      <td>522.000000</td>\n",
       "      <td>10.000000</td>\n",
       "      <td>7.000000</td>\n",
       "    </tr>\n",
       "  </tbody>\n",
       "</table>\n",
       "</div>"
      ],
      "text/plain": [
       "       Model_Year  Engine_Size_L   Cylinders  \\\n",
       "count       878.0     878.000000  878.000000   \n",
       "mean       2020.0       3.163895    5.658314   \n",
       "std           0.0       1.361419    1.906448   \n",
       "min        2020.0       1.000000    3.000000   \n",
       "25%        2020.0       2.000000    4.000000   \n",
       "50%        2020.0       3.000000    6.000000   \n",
       "75%        2020.0       3.800000    6.000000   \n",
       "max        2020.0       8.000000   16.000000   \n",
       "\n",
       "       Fuel_Consumption_City_L_per_100_km  Fuel_Consumption_Hwy_L_per_100_km  \\\n",
       "count                          878.000000                         878.000000   \n",
       "mean                            12.353531                           9.073235   \n",
       "std                              3.385707                           2.108181   \n",
       "min                              4.200000                           4.000000   \n",
       "25%                             10.000000                           7.600000   \n",
       "50%                             12.000000                           8.800000   \n",
       "75%                             14.400000                          10.300000   \n",
       "max                             26.800000                          18.100000   \n",
       "\n",
       "       Fuel_Consumption_Comb_L_per_100_km  Fuel_Consumption_Comb_mpg  \\\n",
       "count                          878.000000                 878.000000   \n",
       "mean                            10.876310                  27.715262   \n",
       "std                              2.771538                   7.562496   \n",
       "min                              4.100000                  13.000000   \n",
       "25%                              9.000000                  23.000000   \n",
       "50%                             10.600000                  27.000000   \n",
       "75%                             12.500000                  31.000000   \n",
       "max                             22.200000                  69.000000   \n",
       "\n",
       "       CO2_Emissions_g_per_km  CO2_Rating  Smog_Rating  \n",
       "count              878.000000  878.000000   878.000000  \n",
       "mean               252.362187    4.542141     4.509112  \n",
       "std                 59.483244    1.709835     1.749874  \n",
       "min                 96.000000    1.000000     1.000000  \n",
       "25%                210.000000    3.000000     3.000000  \n",
       "50%                250.000000    4.000000     5.000000  \n",
       "75%                290.000000    5.000000     6.000000  \n",
       "max                522.000000   10.000000     7.000000  "
      ]
     },
     "execution_count": 30,
     "metadata": {},
     "output_type": "execute_result"
    }
   ],
   "source": [
    "df.describe()"
   ]
  },
  {
   "cell_type": "code",
   "execution_count": 31,
   "metadata": {},
   "outputs": [
    {
     "data": {
      "image/png": "[encoded data removed]",
      "text/plain": [
       "<Figure size 432x288 with 12 Axes>"
      ]
     },
     "metadata": {
      "needs_background": "light"
     },
     "output_type": "display_data"
    }
   ],
   "source": [
    "df.hist()\n",
    "plt.show()"
   ]
  },
  {
   "cell_type": "code",
   "execution_count": 32,
   "metadata": {},
   "outputs": [
    {
     "data": {
      "image/png": "[encoded data removed]",
      "text/plain": [
       "<Figure size 432x288 with 1 Axes>"
      ]
     },
     "metadata": {
      "needs_background": "light"
     },
     "output_type": "display_data"
    }
   ],
   "source": [
    "plt.scatter(df.Engine_Size_L , df.CO2_Emissions_g_per_km , color = \"red\")\n",
    "plt.xlabel(\"Engine Size\")\n",
    "plt.ylabel(\"CO2 Emission\")\n",
    "plt.show()"
   ]
  },
  {
   "cell_type": "markdown",
   "metadata": {},
   "source": [
    "# Train/Test Split"
   ]
  },
  {
   "cell_type": "code",
   "execution_count": 33,
   "metadata": {},
   "outputs": [],
   "source": [
    "msk=np.random.rand(len(df)) <0.8\n",
    "train=df[msk]\n",
    "test=df[~msk]"
   ]
  },
  {
   "cell_type": "markdown",
   "metadata": {},
   "source": [
    "# Model"
   ]
  },
  {
   "cell_type": "code",
   "execution_count": 103,
   "metadata": {},
   "outputs": [
    {
     "name": "stdout",
     "output_type": "stream",
     "text": [
      "[[ 1.    2.4   5.76]\n",
      " [ 1.    3.5  12.25]\n",
      " [ 1.    3.5  12.25]\n",
      " ...\n",
      " [ 1.    2.    4.  ]\n",
      " [ 1.    2.    4.  ]\n",
      " [ 1.    2.    4.  ]]\n"
     ]
    }
   ],
   "source": [
    "from sklearn.preprocessing import PolynomialFeatures\n",
    "from sklearn import linear_model\n",
    "x_train=np.asanyarray(train[[\"Engine_Size_L\"]])\n",
    "y_train=np.asanyarray(train[[\"CO2_Emissions_g_per_km\"]])\n",
    "\n",
    "x_test=np.asanyarray(test[[\"Engine_Size_L\"]])\n",
    "y_test=np.asanyarray(test[[\"CO2_Emissions_g_per_km\"]])\n",
    "\n",
    "poly=PolynomialFeatures(degree=2)\n",
    "x_train_poly=poly.fit_transform(x_train)\n",
    "print(x_train_poly)"
   ]
  },
  {
   "cell_type": "markdown",
   "metadata": {},
   "source": [
    "# x1 = 1 , x2 = x , x3 = X^2 , So now we can solve it by Linear Regression "
   ]
  },
  {
   "cell_type": "code",
   "execution_count": 104,
   "metadata": {},
   "outputs": [
    {
     "name": "stdout",
     "output_type": "stream",
     "text": [
      "Coefficient -  [[ 0.         60.92472271 -3.30669878]]\n",
      "Intercept -  [100.00425284]\n"
     ]
    }
   ],
   "source": [
    "# Polynomial Regression is the special case of linear Regression\n",
    "\n",
    "regr=linear_model.LinearRegression()\n",
    "regr.fit(x_train_poly, y_train)\n",
    "print(\"Coefficient - \",regr.coef_)\n",
    "print(\"Intercept - \",regr.intercept_ )"
   ]
  },
  {
   "cell_type": "code",
   "execution_count": 109,
   "metadata": {},
   "outputs": [
    {
     "data": {
      "image/png": "[encoded data removed]",
      "text/plain": [
       "<Figure size 432x288 with 1 Axes>"
      ]
     },
     "metadata": {
      "needs_background": "light"
     },
     "output_type": "display_data"
    }
   ],
   "source": [
    "plt.scatter(df.Engine_Size_L , df.CO2_Emissions_g_per_km , color = \"red\")\n",
    "XX = np.arange(0.0, 10.0, 0.1)\n",
    "yy = regr.intercept_[0]+ regr.coef_[0][1]*XX+ regr.coef_[0][2]*np.power(XX, 2)\n",
    "plt.plot(XX , yy , color='blue')\n",
    "plt.xlabel(\"Engine Size\")\n",
    "plt.ylabel(\"CO2 Emission\")\n",
    "plt.show()"
   ]
  },
  {
   "cell_type": "code",
   "execution_count": null,
   "metadata": {},
   "outputs": [],
   "source": []
  },
  {
   "cell_type": "code",
   "execution_count": null,
   "metadata": {},
   "outputs": [],
   "source": []
  },
  {
   "cell_type": "code",
   "execution_count": null,
   "metadata": {},
   "outputs": [],
   "source": []
  },
  {
   "cell_type": "code",
   "execution_count": null,
   "metadata": {},
   "outputs": [],
   "source": []
  }
 ],
 "metadata": {
  "kernelspec": {
   "display_name": "Python 3",
   "language": "python",
   "name": "python3"
  },
  "language_info": {
   "codemirror_mode": {
    "name": "ipython",
    "version": 3
   },
   "file_extension": ".py",
   "mimetype": "text/x-python",
   "name": "python",
   "nbconvert_exporter": "python",
   "pygments_lexer": "ipython3",
   "version": "3.7.6"
  }
 },
 "nbformat": 4,
 "nbformat_minor": 4
}
